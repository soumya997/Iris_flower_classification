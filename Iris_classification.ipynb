{
  "nbformat": 4,
  "nbformat_minor": 0,
  "metadata": {
    "colab": {
      "name": "Copy of Iris_classification",
      "provenance": [],
      "collapsed_sections": []
    },
    "kernelspec": {
      "name": "python3",
      "display_name": "Python 3"
    }
  },
  "cells": [
    {
      "cell_type": "code",
      "metadata": {
        "id": "Fc26mQnXsxAx",
        "colab_type": "code",
        "colab": {}
      },
      "source": [
        "from sklearn import datasets\n",
        "import pandas as pd\n",
        "import numpy as np"
      ],
      "execution_count": 0,
      "outputs": []
    },
    {
      "cell_type": "code",
      "metadata": {
        "id": "sSjyDB9_s3sG",
        "colab_type": "code",
        "colab": {}
      },
      "source": [
        "data1 = datasets.load_iris()\n"
      ],
      "execution_count": 0,
      "outputs": []
    },
    {
      "cell_type": "code",
      "metadata": {
        "id": "W-ze-ez6s8-0",
        "colab_type": "code",
        "colab": {}
      },
      "source": [
        "X = data1.data"
      ],
      "execution_count": 0,
      "outputs": []
    },
    {
      "cell_type": "code",
      "metadata": {
        "id": "q0IWzNFhtmWK",
        "colab_type": "code",
        "colab": {}
      },
      "source": [
        "y = data1.target"
      ],
      "execution_count": 0,
      "outputs": []
    },
    {
      "cell_type": "code",
      "metadata": {
        "id": "Li0bet7RtpPf",
        "colab_type": "code",
        "outputId": "7bcf3557-d17b-4e43-fc31-b0dea0b8f86b",
        "colab": {
          "base_uri": "https://localhost:8080/",
          "height": 34
        }
      },
      "source": [
        "X[0]\n"
      ],
      "execution_count": 7,
      "outputs": [
        {
          "output_type": "execute_result",
          "data": {
            "text/plain": [
              "array([5.1, 3.5, 1.4, 0.2])"
            ]
          },
          "metadata": {
            "tags": []
          },
          "execution_count": 7
        }
      ]
    },
    {
      "cell_type": "code",
      "metadata": {
        "id": "oJqnoNiUtuQ_",
        "colab_type": "code",
        "outputId": "16003af7-f2fc-4159-c89c-e5fbb90fa94f",
        "colab": {
          "base_uri": "https://localhost:8080/",
          "height": 34
        }
      },
      "source": [
        "y[100]"
      ],
      "execution_count": 8,
      "outputs": [
        {
          "output_type": "execute_result",
          "data": {
            "text/plain": [
              "2"
            ]
          },
          "metadata": {
            "tags": []
          },
          "execution_count": 8
        }
      ]
    },
    {
      "cell_type": "code",
      "metadata": {
        "id": "nBAZDI9RwVUd",
        "colab_type": "code",
        "colab": {}
      },
      "source": [
        "from sklearn.model_selection import train_test_split\n",
        "\n",
        "\n",
        "X_train, X_test, y_train, y_test = train_test_split(X, y, test_size=0.2)\n"
      ],
      "execution_count": 0,
      "outputs": []
    },
    {
      "cell_type": "code",
      "metadata": {
        "id": "8XeEAcAcubcH",
        "colab_type": "code",
        "colab": {}
      },
      "source": [
        "import torch\n",
        "import torch.nn as nn\n",
        "import torch.nn.functional as F\n",
        "from torch.autograd import Variable"
      ],
      "execution_count": 0,
      "outputs": []
    },
    {
      "cell_type": "code",
      "metadata": {
        "id": "Tr3CTW9VvmoU",
        "colab_type": "code",
        "colab": {}
      },
      "source": [
        "batch_size = 50\n",
        "n_iters = 1500\n",
        "num_epochs = 500\n",
        "\n",
        "train_loader = torch.utils.data.DataLoader(dataset=X_train, \n",
        "                                           batch_size=batch_size, \n",
        "                                           shuffle=True)\n",
        "\n",
        "test_loader = torch.utils.data.DataLoader(dataset=X_test, \n",
        "                                          batch_size=batch_size, \n",
        "                                          shuffle=False)"
      ],
      "execution_count": 0,
      "outputs": []
    },
    {
      "cell_type": "code",
      "metadata": {
        "id": "vIHINdLRvrVS",
        "colab_type": "code",
        "colab": {}
      },
      "source": [
        "input_dim = 120\n",
        "hidden_dim = 40\n",
        "output_dim = 3"
      ],
      "execution_count": 0,
      "outputs": []
    },
    {
      "cell_type": "code",
      "metadata": {
        "id": "jK6DV5Qryhmd",
        "colab_type": "code",
        "colab": {}
      },
      "source": [
        "hl = 10\n",
        "\n",
        "num_epoch = 500\n",
        "\n",
        "#model\n",
        "class Net(nn.Module):\n",
        "\n",
        "    def __init__(self):\n",
        "        super(Net, self).__init__()\n",
        "        self.fc1 = nn.Linear(4, hl)\n",
        "        self.fc2 = nn.Linear(hl, 3)\n",
        "\n",
        "    def forward(self, x):\n",
        "        x = F.relu(self.fc1(x))\n",
        "        x = self.fc2(x)\n",
        "        return x"
      ],
      "execution_count": 0,
      "outputs": []
    },
    {
      "cell_type": "code",
      "metadata": {
        "id": "NC-0gprrymn_",
        "colab_type": "code",
        "colab": {}
      },
      "source": [
        "model = Net()"
      ],
      "execution_count": 0,
      "outputs": []
    },
    {
      "cell_type": "code",
      "metadata": {
        "id": "NPi9XM6VyqwH",
        "colab_type": "code",
        "colab": {}
      },
      "source": [
        "criterion = nn.CrossEntropyLoss()"
      ],
      "execution_count": 0,
      "outputs": []
    },
    {
      "cell_type": "code",
      "metadata": {
        "id": "8xee4kFcytiP",
        "colab_type": "code",
        "colab": {}
      },
      "source": [
        "learning_rate = 0.1\n",
        "\n",
        "optimizer = torch.optim.SGD(model.parameters(), lr=learning_rate)  "
      ],
      "execution_count": 0,
      "outputs": []
    },
    {
      "cell_type": "code",
      "metadata": {
        "id": "uwG34jBwywRI",
        "colab_type": "code",
        "outputId": "1ebd7ce2-35a7-4d25-e5ae-0a27401a9233",
        "colab": {
          "base_uri": "https://localhost:8080/",
          "height": 867
        }
      },
      "source": [
        "for epoch in range(num_epochs):\n",
        "    X = Variable(torch.Tensor(X_train).float())\n",
        "    y_train = y_train.astype(np.float32)\n",
        "    Y = Variable(torch.from_numpy(y_train).long())   #tensor = torch.from_numpy(array)\n",
        "\n",
        "    #feedforward - backprop\n",
        "    optimizer.zero_grad()\n",
        "    out = model(X)\n",
        "    loss = criterion(out,Y)\n",
        "    loss.backward()\n",
        "    optimizer.step()\n",
        "\n",
        "    if (epoch) % 10 == 0:\n",
        "        print ('Epoch [%d/%d] Loss: %.4f' \n",
        "                   %(epoch+1, num_epoch, loss.item()))"
      ],
      "execution_count": 17,
      "outputs": [
        {
          "output_type": "stream",
          "text": [
            "Epoch [1/500] Loss: 1.1684\n",
            "Epoch [11/500] Loss: 0.8302\n",
            "Epoch [21/500] Loss: 0.6067\n",
            "Epoch [31/500] Loss: 0.4932\n",
            "Epoch [41/500] Loss: 0.4301\n",
            "Epoch [51/500] Loss: 0.3826\n",
            "Epoch [61/500] Loss: 0.3397\n",
            "Epoch [71/500] Loss: 0.3016\n",
            "Epoch [81/500] Loss: 0.4239\n",
            "Epoch [91/500] Loss: 0.3479\n",
            "Epoch [101/500] Loss: 0.3408\n",
            "Epoch [111/500] Loss: 0.3372\n",
            "Epoch [121/500] Loss: 0.3188\n",
            "Epoch [131/500] Loss: 0.3128\n",
            "Epoch [141/500] Loss: 0.3016\n",
            "Epoch [151/500] Loss: 0.2937\n",
            "Epoch [161/500] Loss: 0.2788\n",
            "Epoch [171/500] Loss: 0.2695\n",
            "Epoch [181/500] Loss: 0.2550\n",
            "Epoch [191/500] Loss: 0.2467\n",
            "Epoch [201/500] Loss: 0.2321\n",
            "Epoch [211/500] Loss: 0.2186\n",
            "Epoch [221/500] Loss: 0.2072\n",
            "Epoch [231/500] Loss: 0.1937\n",
            "Epoch [241/500] Loss: 0.1765\n",
            "Epoch [251/500] Loss: 0.1522\n",
            "Epoch [261/500] Loss: 0.1284\n",
            "Epoch [271/500] Loss: 0.1153\n",
            "Epoch [281/500] Loss: 0.1100\n",
            "Epoch [291/500] Loss: 0.1103\n",
            "Epoch [301/500] Loss: 0.1204\n",
            "Epoch [311/500] Loss: 0.1670\n",
            "Epoch [321/500] Loss: 0.3787\n",
            "Epoch [331/500] Loss: 0.0751\n",
            "Epoch [341/500] Loss: 0.0677\n",
            "Epoch [351/500] Loss: 0.0642\n",
            "Epoch [361/500] Loss: 0.0614\n",
            "Epoch [371/500] Loss: 0.0591\n",
            "Epoch [381/500] Loss: 0.0570\n",
            "Epoch [391/500] Loss: 0.0551\n",
            "Epoch [401/500] Loss: 0.0534\n",
            "Epoch [411/500] Loss: 0.0519\n",
            "Epoch [421/500] Loss: 0.0504\n",
            "Epoch [431/500] Loss: 0.0491\n",
            "Epoch [441/500] Loss: 0.0478\n",
            "Epoch [451/500] Loss: 0.0467\n",
            "Epoch [461/500] Loss: 0.0456\n",
            "Epoch [471/500] Loss: 0.0446\n",
            "Epoch [481/500] Loss: 0.0436\n",
            "Epoch [491/500] Loss: 0.0427\n"
          ],
          "name": "stdout"
        }
      ]
    },
    {
      "cell_type": "code",
      "metadata": {
        "id": "Z68v2F410J2m",
        "colab_type": "code",
        "colab": {}
      },
      "source": [
        ""
      ],
      "execution_count": 0,
      "outputs": []
    },
    {
      "cell_type": "code",
      "metadata": {
        "id": "vfFdvAiAz_zZ",
        "colab_type": "code",
        "outputId": "41635603-13d2-4999-e90b-0e58e147aecb",
        "colab": {
          "base_uri": "https://localhost:8080/",
          "height": 51
        }
      },
      "source": [
        "X_data = Variable(torch.Tensor(X_test).float())\n",
        "out = model(X_data[5])\n",
        "print(out)\n",
        "out.max()\n"
      ],
      "execution_count": 21,
      "outputs": [
        {
          "output_type": "stream",
          "text": [
            "tensor([-1.9518,  4.2491, -2.2592], grad_fn=<AddBackward0>)\n"
          ],
          "name": "stdout"
        },
        {
          "output_type": "execute_result",
          "data": {
            "text/plain": [
              "tensor(4.2491, grad_fn=<MaxBackward1>)"
            ]
          },
          "metadata": {
            "tags": []
          },
          "execution_count": 21
        }
      ]
    },
    {
      "cell_type": "code",
      "metadata": {
        "id": "4UcV2u8W0Pjn",
        "colab_type": "code",
        "outputId": "674a1e3d-d1e5-4954-fa30-914cbe33d17d",
        "colab": {
          "base_uri": "https://localhost:8080/",
          "height": 34
        }
      },
      "source": [
        "y_test[5]"
      ],
      "execution_count": 22,
      "outputs": [
        {
          "output_type": "execute_result",
          "data": {
            "text/plain": [
              "1"
            ]
          },
          "metadata": {
            "tags": []
          },
          "execution_count": 22
        }
      ]
    }
  ]
}